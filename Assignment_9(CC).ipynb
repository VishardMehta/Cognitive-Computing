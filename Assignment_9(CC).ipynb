{
  "nbformat": 4,
  "nbformat_minor": 0,
  "metadata": {
    "colab": {
      "provenance": []
    },
    "kernelspec": {
      "name": "python3",
      "display_name": "Python 3"
    },
    "language_info": {
      "name": "python"
    }
  },
  "cells": [
    {
      "cell_type": "code",
      "execution_count": 1,
      "metadata": {
        "colab": {
          "base_uri": "https://localhost:8080/"
        },
        "id": "K4cJOkxRGi8A",
        "outputId": "aeeef649-dd71-4875-e2c1-f7b1486dc931"
      },
      "outputs": [
        {
          "output_type": "stream",
          "name": "stderr",
          "text": [
            "[nltk_data] Downloading package punkt to /root/nltk_data...\n",
            "[nltk_data]   Unzipping tokenizers/punkt.zip.\n",
            "[nltk_data] Downloading package stopwords to /root/nltk_data...\n",
            "[nltk_data]   Unzipping corpora/stopwords.zip.\n",
            "[nltk_data] Downloading package wordnet to /root/nltk_data...\n",
            "[nltk_data] Downloading package punkt_tab to /root/nltk_data...\n",
            "[nltk_data]   Unzipping tokenizers/punkt_tab.zip.\n"
          ]
        },
        {
          "output_type": "execute_result",
          "data": {
            "text/plain": [
              "True"
            ]
          },
          "metadata": {},
          "execution_count": 1
        }
      ],
      "source": [
        "import nltk\n",
        "import re\n",
        "import string\n",
        "from nltk.tokenize import word_tokenize, sent_tokenize\n",
        "from nltk.corpus import stopwords\n",
        "from nltk.stem import PorterStemmer, LancasterStemmer, WordNetLemmatizer\n",
        "from nltk import FreqDist\n",
        "\n",
        "nltk.download('punkt')\n",
        "nltk.download('stopwords')\n",
        "nltk.download('wordnet')\n",
        "nltk.download('punkt_tab')"
      ]
    },
    {
      "cell_type": "code",
      "source": [
        "import string\n",
        "para = \"Cricket isn’t just a game to me, It’s a feeling,i have passion for cricket game .\"\n",
        "para_lower = para.lower()\n",
        "para_clean = para_lower.translate(str.maketrans('', '', string.punctuation))\n",
        "print(para_clean)\n",
        "print()\n",
        "\n",
        "word_tokens = word_tokenize(para_clean)\n",
        "sent_tokens = sent_tokenize(para)\n",
        "print(word_tokens)\n",
        "print(sent_tokens)\n",
        "print()\n",
        "\n",
        "stop_words = set(stopwords.words('english'))\n",
        "filtered_words = [w for w in word_tokens if w.lower() not in stop_words]\n",
        "print(\"Without stopwords:\\n\", filtered_words)\n",
        "print()\n",
        "\n",
        "fd = FreqDist(filtered_words)\n",
        "fd.plot(10, title=\"Top Words\")\n",
        ""
      ],
      "metadata": {
        "colab": {
          "base_uri": "https://localhost:8080/",
          "height": 672
        },
        "id": "l55tLUglGk2N",
        "outputId": "3ded3f04-080b-46f9-ea90-2b1ea113b4c8"
      },
      "execution_count": 4,
      "outputs": [
        {
          "output_type": "stream",
          "name": "stdout",
          "text": [
            "cricket isn’t just a game to me it’s a feelingi have passion for cricket game \n",
            "\n",
            "['cricket', 'isn', '’', 't', 'just', 'a', 'game', 'to', 'me', 'it', '’', 's', 'a', 'feelingi', 'have', 'passion', 'for', 'cricket', 'game']\n",
            "['Cricket isn’t just a game to me, It’s a feeling,i have passion for cricket game .']\n",
            "\n",
            "Without stopwords:\n",
            " ['cricket', '’', 'game', '’', 'feelingi', 'passion', 'cricket', 'game']\n",
            "\n"
          ]
        },
        {
          "output_type": "execute_result",
          "data": {
            "text/plain": [
              "<Axes: title={'center': 'Top Words'}, xlabel='Samples', ylabel='Counts'>"
            ]
          },
          "metadata": {},
          "execution_count": 4
        },
        {
          "output_type": "display_data",
          "data": {
            "text/plain": [
              "<Figure size 640x480 with 1 Axes>"
            ],
            "image/png": "[encoded data removed]"
          },
          "metadata": {}
        }
      ]
    },
    {
      "cell_type": "code",
      "source": [
        "ps = PorterStemmer()\n",
        "ls = LancasterStemmer()\n",
        "\n",
        "for word in filtered_words:\n",
        "    print(f\"{word} -> PorterStemmer: {ps.stem(word)}    LancasterStemmer: {ls.stem(word)} \")\n",
        "print()\n",
        "\n",
        "lm = WordNetLemmatizer()\n",
        "\n",
        "for word in filtered_words:\n",
        "    print(f\"{word} -> Lemmatized: {lm.lemmatize(word)}\")"
      ],
      "metadata": {
        "colab": {
          "base_uri": "https://localhost:8080/"
        },
        "id": "txCOvolqGlMT",
        "outputId": "de9e71e0-d539-49b9-b352-a06e53d190d9"
      },
      "execution_count": 3,
      "outputs": [
        {
          "output_type": "stream",
          "name": "stdout",
          "text": [
            "cricket -> PorterStemmer: cricket    LancasterStemmer: cricket \n",
            "’ -> PorterStemmer: ’    LancasterStemmer: ’ \n",
            "game -> PorterStemmer: game    LancasterStemmer: gam \n",
            "’ -> PorterStemmer: ’    LancasterStemmer: ’ \n",
            "feelingi -> PorterStemmer: feelingi    LancasterStemmer: feeling \n",
            "passion -> PorterStemmer: passion    LancasterStemmer: pass \n",
            "\n",
            "cricket -> Lemmatized: cricket\n",
            "’ -> Lemmatized: ’\n",
            "game -> Lemmatized: game\n",
            "’ -> Lemmatized: ’\n",
            "feelingi -> Lemmatized: feelingi\n",
            "passion -> Lemmatized: passion\n"
          ]
        }
      ]
    },
    {
      "cell_type": "code",
      "source": [
        "print(\"More than 5 letter words:\\n\",re.findall(r'\\b\\w{6,}\\b', para))\n",
        "print(\"Numbers: \\n\",re.findall(r'\\b\\d+\\b', para))\n",
        "print(\"Capitalized words: \\n\",re.findall(r'\\b[A-Z][a-z]*\\b', para))\n",
        "print()\n",
        "print(\"Words containing only alphabets: \\n\",re.findall(r'\\b[a-zA-Z]+\\b', para))\n",
        "print(\"Words starting with vowels: \\n\",re.findall(r'\\b[aeiouAEIOU]\\w*\\b', para))"
      ],
      "metadata": {
        "colab": {
          "base_uri": "https://localhost:8080/"
        },
        "id": "M9C4y1gXG8w6",
        "outputId": "2df0bb98-b2d8-4336-cef5-a04de733b2e7"
      },
      "execution_count": 5,
      "outputs": [
        {
          "output_type": "stream",
          "name": "stdout",
          "text": [
            "More than 5 letter words:\n",
            " ['Cricket', 'feeling', 'passion', 'cricket']\n",
            "Numbers: \n",
            " []\n",
            "Capitalized words: \n",
            " ['Cricket', 'It']\n",
            "\n",
            "Words containing only alphabets: \n",
            " ['Cricket', 'isn', 't', 'just', 'a', 'game', 'to', 'me', 'It', 's', 'a', 'feeling', 'i', 'have', 'passion', 'for', 'cricket', 'game']\n",
            "Words starting with vowels: \n",
            " ['isn', 'a', 'It', 'a', 'i']\n"
          ]
        }
      ]
    },
    {
      "cell_type": "code",
      "source": [
        "def custom_tokenizer(text):\n",
        "  pattern = r\"\\b\\w+(?:-\\w+)*\\b|\\d+\\.\\d+|\\w+'\\w+\"\n",
        "  return re.findall(pattern, text)\n",
        "\n",
        "print(custom_tokenizer(para))\n",
        "\n",
        "def replace_placeholders(text):\n",
        "    text = re.sub(r\"[a-zA-Z0-9._%+-]+@[a-zA-Z0-9.-]+\\.[a-zA-Z]{2,}\", \"\", text)\n",
        "    text = re.sub(r\"https?://(?:www\\.)?[a-zA-Z0-9.-]+\\.[a-zA-Z]{2,}\", \"\", text)\n",
        "    text = re.sub(r\"\\+?\\d{1,3}\\s??[-\\s]?\\d{1,4}[-\\s]?\\d{1,4}[-\\s]?\\d{1,4}\", \"\", text)\n",
        "    return text\n",
        "\n",
        "text = \"Contact me at daddy@gmail.com or visit our website at https://www.github.com or call +91 7589878775. or call 123-456-7890 \"\n",
        "\n",
        "print(replace_placeholders(text))"
      ],
      "metadata": {
        "colab": {
          "base_uri": "https://localhost:8080/"
        },
        "id": "XBxISykgHBv4",
        "outputId": "7d31dfda-7d3c-4fcb-93ca-08f21b26423c"
      },
      "execution_count": 8,
      "outputs": [
        {
          "output_type": "stream",
          "name": "stdout",
          "text": [
            "['Cricket', 'isn', 't', 'just', 'a', 'game', 'to', 'me', 'It', 's', 'a', 'feeling', 'i', 'have', 'passion', 'for', 'cricket', 'game']\n",
            "Contact me at  or visit our website at  or call . or call  \n"
          ]
        }
      ]
    }
  ]
}