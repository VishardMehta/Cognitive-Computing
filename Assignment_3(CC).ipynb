{
  "nbformat": 4,
  "nbformat_minor": 0,
  "metadata": {
    "colab": {
      "provenance": []
    },
    "kernelspec": {
      "name": "python3",
      "display_name": "Python 3"
    },
    "language_info": {
      "name": "python"
    }
  },
  "cells": [
    {
      "cell_type": "code",
      "execution_count": 1,
      "metadata": {
        "colab": {
          "base_uri": "https://localhost:8080/"
        },
        "id": "H1d_V9LbhZH8",
        "outputId": "0ea500d1-2892-4432-bb70-ccccab9220ad"
      },
      "outputs": [
        {
          "output_type": "stream",
          "name": "stdout",
          "text": [
            "[3 4 5 6 7 8]\n",
            "[ 3  6  9 12 15 18]\n",
            "[0.5 1.  1.5 2.  2.5 3. ]\n"
          ]
        }
      ],
      "source": [
        "import numpy as np\n",
        "arr = np.array([1,2,3,4,5,6])\n",
        "print(arr+2)\n",
        "print(arr*3)\n",
        "print(arr/2)"
      ]
    },
    {
      "cell_type": "code",
      "source": [
        "arr = np.array([1, 2, 3, 6, 4, 5])\n",
        "newarr = np.flip(arr)\n",
        "print(newarr)\n",
        "print()\n",
        "\n",
        "x = np.array([1,2,3,4,5,1,2,1,1,1])\n",
        "y = np.array([1, 1, 1, 2, 3, 4, 2, 4, 3, 3])\n",
        "\n",
        "def getMostFreq(x):\n",
        "  unique,count = np.unique(x,return_counts=True)\n",
        "  mode = unique[np.argmax(count)]\n",
        "  indices = np.where(x == mode)[0]\n",
        "  return mode,indices\n",
        "\n",
        "mode,indices = getMostFreq(x)\n",
        "print(\"For array x:\")\n",
        "print(\"Most frequent element is: \",mode)\n",
        "print(\"Indices: \",indices)\n",
        "print()\n",
        "\n",
        "mode,indices = getMostFreq(y)\n",
        "print(\"For array y:\")\n",
        "print(\"Most frequent element is: \",mode)\n",
        "print(\"Indices: \",indices)\n",
        "\n",
        "\n"
      ],
      "metadata": {
        "colab": {
          "base_uri": "https://localhost:8080/"
        },
        "id": "nWuZk5nlhbho",
        "outputId": "9b4932f7-41e8-49bd-925a-ea78d4bc1c73"
      },
      "execution_count": 2,
      "outputs": [
        {
          "output_type": "stream",
          "name": "stdout",
          "text": [
            "[5 4 6 3 2 1]\n",
            "\n",
            "For array x:\n",
            "Most frequent element is:  1\n",
            "Indices:  [0 5 7 8 9]\n",
            "\n",
            "For array y:\n",
            "Most frequent element is:  1\n",
            "Indices:  [0 1 2]\n"
          ]
        }
      ]
    },
    {
      "cell_type": "code",
      "source": [
        "arr=np.array([[10, 20, 30], [40, 50, 60], [70, 80, 90]])\n",
        "print(arr[0][1])\n",
        "print(arr[2][0])"
      ],
      "metadata": {
        "colab": {
          "base_uri": "https://localhost:8080/"
        },
        "id": "l7tSYnBbhdNu",
        "outputId": "42ff8677-d5e5-4247-f659-267d030756e2"
      },
      "execution_count": 3,
      "outputs": [
        {
          "output_type": "stream",
          "name": "stdout",
          "text": [
            "20\n",
            "70\n"
          ]
        }
      ]
    },
    {
      "cell_type": "code",
      "source": [
        "vis=np.linspace(10,100,25)\n",
        "\n",
        "print('Array:',vis)\n",
        "\n",
        "print('Dimension: ',vis.ndim)\n",
        "print('Shape :',vis.shape)\n",
        "print('Number of elements:',vis.size)\n",
        "print('Data Type:',vis.dtype)\n",
        "print('Total bytes: ',vis.nbytes)\n",
        "\n",
        "transpose=vis.reshape(25,1)\n",
        "print('Using reshape:')\n",
        "print(transpose)\n",
        "print()\n",
        "\n",
        "print('Using T attribute:')\n",
        "transpose=vis.T\n",
        "print(transpose)\n",
        "print()\n",
        "print('Cannot use T attribute')"
      ],
      "metadata": {
        "colab": {
          "base_uri": "https://localhost:8080/"
        },
        "id": "MyKnU6SQher_",
        "outputId": "8d81766a-e2a1-4806-9b1d-d80d2d164a4d"
      },
      "execution_count": 4,
      "outputs": [
        {
          "output_type": "stream",
          "name": "stdout",
          "text": [
            "Array: [ 10.    13.75  17.5   21.25  25.    28.75  32.5   36.25  40.    43.75\n",
            "  47.5   51.25  55.    58.75  62.5   66.25  70.    73.75  77.5   81.25\n",
            "  85.    88.75  92.5   96.25 100.  ]\n",
            "Dimension:  1\n",
            "Shape : (25,)\n",
            "Number of elements: 25\n",
            "Data Type: float64\n",
            "Total bytes:  200\n",
            "Using reshape:\n",
            "[[ 10.  ]\n",
            " [ 13.75]\n",
            " [ 17.5 ]\n",
            " [ 21.25]\n",
            " [ 25.  ]\n",
            " [ 28.75]\n",
            " [ 32.5 ]\n",
            " [ 36.25]\n",
            " [ 40.  ]\n",
            " [ 43.75]\n",
            " [ 47.5 ]\n",
            " [ 51.25]\n",
            " [ 55.  ]\n",
            " [ 58.75]\n",
            " [ 62.5 ]\n",
            " [ 66.25]\n",
            " [ 70.  ]\n",
            " [ 73.75]\n",
            " [ 77.5 ]\n",
            " [ 81.25]\n",
            " [ 85.  ]\n",
            " [ 88.75]\n",
            " [ 92.5 ]\n",
            " [ 96.25]\n",
            " [100.  ]]\n",
            "\n",
            "Using T attribute:\n",
            "[ 10.    13.75  17.5   21.25  25.    28.75  32.5   36.25  40.    43.75\n",
            "  47.5   51.25  55.    58.75  62.5   66.25  70.    73.75  77.5   81.25\n",
            "  85.    88.75  92.5   96.25 100.  ]\n",
            "\n",
            "Cannot use T attribute\n"
          ]
        }
      ]
    },
    {
      "cell_type": "code",
      "source": [
        "ucs420_vishard_mehta = np.array([[10, 20, 30, 40], [50, 60, 70, 80], [90, 15, 20, 35]])\n",
        "print(ucs420_vishard_mehta)\n",
        "print()\n",
        "print('Mean : ', np.mean(ucs420_vishard_mehta))\n",
        "print()\n",
        "print('Median : ', np.median(ucs420_vishard_mehta))\n",
        "print()\n",
        "print('Max : ', np.max(ucs420_vishard_mehta))\n",
        "print()\n",
        "print('Min : ',  np.min(ucs420_vishard_mehta))\n",
        "print()\n",
        "print('Unique elements: ', np.unique(ucs420_vishard_mehta))\n",
        "print()\n",
        "\n",
        "reshaped_ucs420_vishard_mehta=ucs420_vishard_mehta.reshape(4,3)\n",
        "resized_ucs420_vishard_mehta=np.resize(ucs420_vishard_mehta,(2,3))\n",
        "print(\"Reshaped: \\n\", reshaped_ucs420_vishard_mehta)\n",
        "print()\n",
        "print(\"Resized: \\n\", resized_ucs420_vishard_mehta)"
      ],
      "metadata": {
        "colab": {
          "base_uri": "https://localhost:8080/"
        },
        "id": "7Xc-Zyc6hggI",
        "outputId": "e8048dad-cd62-4367-b925-b54bb37d5180"
      },
      "execution_count": 5,
      "outputs": [
        {
          "output_type": "stream",
          "name": "stdout",
          "text": [
            "[[10 20 30 40]\n",
            " [50 60 70 80]\n",
            " [90 15 20 35]]\n",
            "\n",
            "Mean :  43.333333333333336\n",
            "\n",
            "Median :  37.5\n",
            "\n",
            "Max :  90\n",
            "\n",
            "Min :  10\n",
            "\n",
            "Unique elements:  [10 15 20 30 35 40 50 60 70 80 90]\n",
            "\n",
            "Reshaped: \n",
            " [[10 20 30]\n",
            " [40 50 60]\n",
            " [70 80 90]\n",
            " [15 20 35]]\n",
            "\n",
            "Resized: \n",
            " [[10 20 30]\n",
            " [40 50 60]]\n"
          ]
        }
      ]
    }
  ]
}