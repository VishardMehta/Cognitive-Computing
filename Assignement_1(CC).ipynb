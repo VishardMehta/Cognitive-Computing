{
  "nbformat": 4,
  "nbformat_minor": 0,
  "metadata": {
    "colab": {
      "provenance": []
    },
    "kernelspec": {
      "name": "python3",
      "display_name": "Python 3"
    },
    "language_info": {
      "name": "python"
    }
  },
  "cells": [
    {
      "cell_type": "code",
      "execution_count": 1,
      "metadata": {
        "colab": {
          "base_uri": "https://localhost:8080/"
        },
        "id": "YCqW22E0cdk3",
        "outputId": "e63f87a5-61c2-4fd0-d8b9-06413a7926b7"
      },
      "outputs": [
        {
          "output_type": "stream",
          "name": "stdout",
          "text": [
            "You're Supercalifragilisticexpialidocious\n"
          ]
        }
      ],
      "source": [
        "#Q 1\n",
        "print(\"You're Supercalifragilisticexpialidocious\")"
      ]
    },
    {
      "cell_type": "code",
      "source": [
        "#Q 2\n",
        "a = int(input(\"Enter the first number: \"))\n",
        "b = int(input(\"Enter the second number:\"))\n",
        "c = input(\"Enter your name: \")\n",
        "#Q 2.1\n",
        "print(\"Addition:\", a+b);\n",
        "#Q 2.2\n",
        "print(\"Hi \"+ c + \" What's up \")\n",
        "#Q 2.3\n",
        "print(c + \" this is sum \" + str(a + b))"
      ],
      "metadata": {
        "colab": {
          "base_uri": "https://localhost:8080/"
        },
        "id": "NTRjVj8khTRO",
        "outputId": "24c2c6a3-a8c6-40b0-f31d-8bcf8cff3ae9"
      },
      "execution_count": 3,
      "outputs": [
        {
          "output_type": "stream",
          "name": "stdout",
          "text": [
            "Enter the first number: 5\n",
            "Enter the second number:6\n",
            "Enter your name: vishard\n",
            "Addition: 11\n",
            "Hi vishard What's up \n",
            "vishard this is sum 11\n"
          ]
        }
      ]
    },
    {
      "cell_type": "code",
      "source": [
        "#Q 3\n",
        "#Q 3.1\n",
        "a = int(input(\"Enter the number: \"))\n",
        "if(a>0):\n",
        "  print(\"Positive\")\n",
        "elif(a<0):\n",
        "  print(\"Negative\")\n",
        "else:\n",
        "  print(\"Zero\")\n",
        "# Q 3.2\n",
        "if(a%2==0):\n",
        "  print(\"Even\")\n",
        "else:\n",
        "  print(\"Odd\")"
      ],
      "metadata": {
        "colab": {
          "base_uri": "https://localhost:8080/"
        },
        "id": "yoxX7JYlhzKY",
        "outputId": "f80ec80f-ab20-4c3b-8589-be2c4369e77a"
      },
      "execution_count": 5,
      "outputs": [
        {
          "output_type": "stream",
          "name": "stdout",
          "text": [
            "Enter the number: -9\n",
            "Negative\n",
            "Odd\n"
          ]
        }
      ]
    },
    {
      "cell_type": "code",
      "source": [
        "#Q 4\n",
        "#Q 4.1\n",
        "print(\"Numbers from 1 to 10 are using for: \")\n",
        "a = 1\n",
        "for i in range(10):\n",
        "  print(a)\n",
        "  print(\" \")\n",
        "  a = a+1\n",
        "print(\"\\n\")\n",
        "#Q 4.2\n",
        "print(\"Numbers from 1 to 10 are using while : \")\n",
        "i = 1\n",
        "while(i<=10):\n",
        "  print(i)\n",
        "  print(\" \")\n",
        "  i= i+1\n",
        "print(\"\\n\")\n",
        "#Q 4.3\n",
        "print(\"Sum of first 100 numbers : \")\n",
        "sum = 0\n",
        "for i in range(101):\n",
        "  sum = sum + i\n",
        "print(sum)"
      ],
      "metadata": {
        "colab": {
          "base_uri": "https://localhost:8080/"
        },
        "id": "2TnSN_9ih8TP",
        "outputId": "7db208bd-a8ed-4c29-ac87-0140b5537cfd"
      },
      "execution_count": 7,
      "outputs": [
        {
          "output_type": "stream",
          "name": "stdout",
          "text": [
            "Numbers from 1 to 10 are using for: \n",
            "1\n",
            " \n",
            "2\n",
            " \n",
            "3\n",
            " \n",
            "4\n",
            " \n",
            "5\n",
            " \n",
            "6\n",
            " \n",
            "7\n",
            " \n",
            "8\n",
            " \n",
            "9\n",
            " \n",
            "10\n",
            " \n",
            "\n",
            "\n",
            "Numbers from 1 to 10 are using while : \n",
            "1\n",
            " \n",
            "2\n",
            " \n",
            "3\n",
            " \n",
            "4\n",
            " \n",
            "5\n",
            " \n",
            "6\n",
            " \n",
            "7\n",
            " \n",
            "8\n",
            " \n",
            "9\n",
            " \n",
            "10\n",
            " \n",
            "\n",
            "\n",
            "Sum of first 100 numbers : \n",
            "5050\n"
          ]
        }
      ]
    },
    {
      "cell_type": "code",
      "source": [
        "#q 5\n",
        "#q 5.1\n",
        "l = []\n",
        "for i in range(5):\n",
        "  a = int(input(\"Enter the number: \"))\n",
        "  l.append(a)\n",
        "\n",
        "print(\"Largest number : \", max(l))\n",
        "print(\"Smallest number :\", min(l))\n",
        "#q 5.3\n",
        "l.sort()\n",
        "print(\"Sorted list:\", l)\n",
        "l.reverse()\n",
        "print(\"Reversed list:\", l)\n"
      ],
      "metadata": {
        "colab": {
          "base_uri": "https://localhost:8080/"
        },
        "id": "V1bL8C7ninkb",
        "outputId": "1c10195e-92e8-4fda-e482-a9a2bce0702d"
      },
      "execution_count": 8,
      "outputs": [
        {
          "output_type": "stream",
          "name": "stdout",
          "text": [
            "Enter the number: 45\n",
            "Enter the number: 23\n",
            "Enter the number: 23\n",
            "Enter the number: 54\n",
            "Enter the number: 64\n",
            "Largest number :  64\n",
            "Smallest number : 23\n",
            "Sorted list: [23, 23, 45, 54, 64]\n",
            "Reversed list: [64, 54, 45, 23, 23]\n"
          ]
        }
      ]
    },
    {
      "cell_type": "code",
      "source": [
        "#q 5.2\n",
        "a = input(\"Enter your name: \")\n",
        "b = input(\"Enter your age: \")\n",
        "c = input(\"Enter your city:\")\n",
        "\n",
        "my_dict = {\"name\": a, \"age\": b, \"city\": c}\n",
        "\n",
        "def get_value(key):\n",
        "  if key in my_dict:\n",
        "    return my_dict[key]\n",
        "  else:\n",
        "    return None\n",
        "\n",
        "key_to_find = \"age\"\n",
        "value = get_value(key_to_find)\n",
        "\n",
        "if value is not None:\n",
        "  print(f\"The value for key '{key_to_find}' is: {value}\")\n",
        "else:\n",
        "  print(f\"Key '{key_to_find}' not found in the dictionary.\")"
      ],
      "metadata": {
        "colab": {
          "base_uri": "https://localhost:8080/"
        },
        "id": "DgXGXTHJiOew",
        "outputId": "dfe976c8-ce5d-485b-91f2-28e511974f53"
      },
      "execution_count": 9,
      "outputs": [
        {
          "output_type": "stream",
          "name": "stdout",
          "text": [
            "Enter your name: vishard\n",
            "Enter your age: 19\n",
            "Enter your city:hoshiarpur \n",
            "The value for key 'age' is: 19\n"
          ]
        }
      ]
    },
    {
      "cell_type": "code",
      "source": [
        "#q 5.4\n",
        "a = input(\"Enter your name: \")\n",
        "b = input(\"Enter your age: \")\n",
        "c = input(\"Enter your city:\")\n",
        "my_dict = {\"name\": a, \"age\": b, \"city\": c}\n",
        "\n",
        "d = input(\"Enter your DOB: \")\n",
        "e = input(\"Enter your Gender: \")\n",
        "f = input(\"Enter your state:\")\n",
        "my_dict2 = {\"DOB\": d, \"Gender\": e, \"State\": f}\n",
        "\n",
        "m = my_dict.copy()\n",
        "m.update(my_dict2)\n",
        "print(m)"
      ],
      "metadata": {
        "colab": {
          "base_uri": "https://localhost:8080/"
        },
        "id": "rA5NDOxOjT3g",
        "outputId": "c5b43e14-661f-4adc-904d-141bec872982"
      },
      "execution_count": 13,
      "outputs": [
        {
          "output_type": "stream",
          "name": "stdout",
          "text": [
            "Enter your name: v\n",
            "Enter your age: 19\n",
            "Enter your city:hsp\n",
            "Enter your DOB: 15-3-2005\n",
            "Enter your Gender: male\n",
            "Enter your state:pb\n",
            "{'name': 'v', 'age': '19', 'city': 'hsp', 'DOB': '15-3-2005', 'Gender': 'male', 'State': 'pb'}\n"
          ]
        }
      ]
    },
    {
      "cell_type": "code",
      "source": [
        "#q 6\n",
        "def volc(a):\n",
        "  count =0\n",
        "  vowel = \"aeiouAEIOU\"\n",
        "  for i in a:\n",
        "    if i in vowel:\n",
        "      count = count+1\n",
        "  return count\n",
        "#q 6.1\n",
        "a = input(\"Input string\")\n",
        "ans = volc(a)\n",
        "print(\"Vowel count :\", ans)\n",
        "\n",
        "txt = a[::-1]\n",
        "print(txt)\n",
        "\n",
        "def ispalindrome(a):\n",
        "  if a == a[::-1]:\n",
        "    return True\n",
        "  else:\n",
        "    return False\n",
        "\n",
        "ans = ispalindrome(a)\n",
        "print(ans)"
      ],
      "metadata": {
        "colab": {
          "base_uri": "https://localhost:8080/"
        },
        "id": "w8g4JNfAj793",
        "outputId": "51edcb7b-8a33-4dcf-e358-2f5e5297bcba"
      },
      "execution_count": 16,
      "outputs": [
        {
          "output_type": "stream",
          "name": "stdout",
          "text": [
            "Input stringVishard\n",
            "Vowel count : 2\n",
            "drahsiV\n",
            "False\n"
          ]
        }
      ]
    },
    {
      "cell_type": "code",
      "source": [
        "#q 7\n",
        "#q7.1\n",
        "def createfile():\n",
        "  f = open(\"demofile.txt\", \"w\")\n",
        "  f.write(\"This is a demo file\")\n",
        "  f.close()\n",
        "\n",
        "createfile()\n",
        "\n",
        "f = open(\"demofile.txt\", \"r\")\n",
        "print(f.read())\n"
      ],
      "metadata": {
        "colab": {
          "base_uri": "https://localhost:8080/"
        },
        "id": "LpW-W7gljdI_",
        "outputId": "9c7e41b8-5200-4dd8-d2ce-1e715c3277b1"
      },
      "execution_count": 19,
      "outputs": [
        {
          "output_type": "stream",
          "name": "stdout",
          "text": [
            "This is a demo file\n"
          ]
        }
      ]
    },
    {
      "cell_type": "code",
      "source": [
        "#q 7.2\n",
        "f = open(\"ex.txt\", \"a\")\n",
        "f.write(\"\\n new line\")\n",
        "f.close()\n",
        "\n",
        "f = open(\"ex.txt\", \"r\")\n",
        "print(f.read())"
      ],
      "metadata": {
        "colab": {
          "base_uri": "https://localhost:8080/"
        },
        "id": "RxveRSWmkqsW",
        "outputId": "d7fecce4-9f98-40de-e9ee-204f39dcc996"
      },
      "execution_count": 17,
      "outputs": [
        {
          "output_type": "stream",
          "name": "stdout",
          "text": [
            "\n",
            " new line\n"
          ]
        }
      ]
    },
    {
      "cell_type": "code",
      "source": [
        "#q 7.3\n",
        "f = open(\"ex.txt\", \"r\")\n",
        "len = len(f.readlines())\n",
        "print(\"Line count :\", len)"
      ],
      "metadata": {
        "colab": {
          "base_uri": "https://localhost:8080/"
        },
        "id": "Lmd2OK8rkswq",
        "outputId": "cf92c180-0494-4420-816d-0a1126bc488c"
      },
      "execution_count": 18,
      "outputs": [
        {
          "output_type": "stream",
          "name": "stdout",
          "text": [
            "Line count : 2\n"
          ]
        }
      ]
    },
    {
      "cell_type": "code",
      "source": [
        "# 8\n",
        "def divbyzero():\n",
        "  try:\n",
        "    n = int(input(\"Input an integer: \"))\n",
        "    res = 100 / n\n",
        "\n",
        "  except ZeroDivisionError:\n",
        "      print(\"You can't divide by zero!\")\n",
        "\n",
        "  except ValueError:\n",
        "      print(\"Enter a valid number!\")\n",
        "\n",
        "  else:\n",
        "      print(\"Result is : \", res)\n",
        "\n",
        "  finally:\n",
        "      print(\"Execution done\")\n",
        "\n",
        "divbyzero()"
      ],
      "metadata": {
        "colab": {
          "base_uri": "https://localhost:8080/"
        },
        "id": "tWbcDlTpk_9H",
        "outputId": "e2fc2bfe-8952-44c0-e7d1-c8cb6c0f422a"
      },
      "execution_count": 37,
      "outputs": [
        {
          "output_type": "stream",
          "name": "stdout",
          "text": [
            "Input an integer: 56\n",
            "Result is :  1.7857142857142858\n",
            "Execution done\n"
          ]
        }
      ]
    },
    {
      "cell_type": "code",
      "source": [
        "#q 9\n",
        "import random\n",
        "import math\n",
        "def isp(z):\n",
        "  for i in range(2,int(math.sqrt(z))):\n",
        "    if z%i == 0:\n",
        "      return False\n",
        "  return True\n",
        "# q 9.1\n",
        "z = []\n",
        "for i in range(0,5):\n",
        "  z.append(random.randint(1,100))\n",
        "\n",
        "print(z)\n",
        "# q 9.2\n",
        "ans = isp(2)\n",
        "print(ans)"
      ],
      "metadata": {
        "colab": {
          "base_uri": "https://localhost:8080/"
        },
        "id": "t2pU2ipXlASI",
        "outputId": "365ac4cc-6c49-4b0e-bf8e-8384094fd563"
      },
      "execution_count": 21,
      "outputs": [
        {
          "output_type": "stream",
          "name": "stdout",
          "text": [
            "[1, 37, 82, 30, 96]\n",
            "True\n"
          ]
        }
      ]
    },
    {
      "cell_type": "code",
      "source": [
        "# q 9.3\n",
        "def virtualdie():\n",
        "  return random.randint(1,6)\n",
        "print(virtualdie())\n",
        ""
      ],
      "metadata": {
        "colab": {
          "base_uri": "https://localhost:8080/"
        },
        "id": "32r35oc3lAfp",
        "outputId": "830839a9-74fa-4dce-c0ee-a22e72a7d1c3"
      },
      "execution_count": 38,
      "outputs": [
        {
          "output_type": "stream",
          "name": "stdout",
          "text": [
            "5\n"
          ]
        }
      ]
    },
    {
      "cell_type": "code",
      "source": [
        "# q 9.4\n",
        "def shufflenum(a):\n",
        "  random.shuffle(a)\n",
        "  return a\n",
        "\n",
        "a = []\n",
        "for i in range(0,5):\n",
        "  a.append(random.randint(1,100))\n",
        "\n",
        "print(a)\n",
        "print(shufflenum(a))\n",
        "# q 9.5\n",
        "print(random.choice(a))"
      ],
      "metadata": {
        "colab": {
          "base_uri": "https://localhost:8080/"
        },
        "id": "q7YBAA-bl6G1",
        "outputId": "c697ee6c-84e1-4350-8e50-838e648be165"
      },
      "execution_count": 23,
      "outputs": [
        {
          "output_type": "stream",
          "name": "stdout",
          "text": [
            "[94, 77, 50, 62, 7]\n",
            "[77, 62, 7, 94, 50]\n",
            "77\n"
          ]
        }
      ]
    },
    {
      "cell_type": "code",
      "source": [
        "#q 9.6\n",
        "a = int(input(\"Enter the length of password: \"))\n",
        "for i in range(0,a):\n",
        "  print(random.randint(0,9), end=\"\")"
      ],
      "metadata": {
        "colab": {
          "base_uri": "https://localhost:8080/"
        },
        "id": "ViOHKcCJmCa0",
        "outputId": "1a811969-df14-4d24-c604-e5a3c488c09d"
      },
      "execution_count": 24,
      "outputs": [
        {
          "output_type": "stream",
          "name": "stdout",
          "text": [
            "Enter the length of password: 7\n",
            "4240488"
          ]
        }
      ]
    },
    {
      "cell_type": "code",
      "source": [
        "# q 9.7\n",
        "suits = [\"Hearts\", \"Diamonds\", \"Clubs\", \"Spades\"]\n",
        "ranks = [\"2\", \"3\", \"4\", \"5\", \"6\", \"7\", \"8\", \"9\", \"10\", \"Jack\", \"Queen\", \"King\", \"Ace\"]\n",
        "\n",
        "def pick_random_card():\n",
        "  suit = random.choice(suits)\n",
        "  rank = random.choice(ranks)\n",
        "  return f\"{rank} of {suit}\"\n",
        "\n",
        "random_card = pick_random_card()\n",
        "random_card\n",
        ""
      ],
      "metadata": {
        "colab": {
          "base_uri": "https://localhost:8080/",
          "height": 35
        },
        "id": "TKSWVKuKmKvn",
        "outputId": "3cef5c0a-a895-4595-894a-4dbbedc5d52f"
      },
      "execution_count": 27,
      "outputs": [
        {
          "output_type": "execute_result",
          "data": {
            "text/plain": [
              "'Ikka of Diamonds'"
            ],
            "application/vnd.google.colaboratory.intrinsic+json": {
              "type": "string"
            }
          },
          "metadata": {},
          "execution_count": 27
        }
      ]
    },
    {
      "cell_type": "code",
      "source": [
        "import sys\n",
        "len = __builtins__.len\n",
        "n = len(sys.argv)\n",
        "print(\"Number of arguments passed:\", n - 1)\n",
        "sum = 0\n",
        "try:\n",
        "    for i in range(1, n):\n",
        "        sum += int(sys.argv[i])\n",
        "except ValueError:\n",
        "    print(\"Please provide valid integers as arguments.\")\n",
        "\n",
        "print(\"Sum of the numbers given is:\", sum)"
      ],
      "metadata": {
        "colab": {
          "base_uri": "https://localhost:8080/"
        },
        "id": "LIiRsvHbmxs0",
        "outputId": "c438c11a-a026-4cfc-c538-c768ec805fc5"
      },
      "execution_count": 36,
      "outputs": [
        {
          "output_type": "stream",
          "name": "stdout",
          "text": [
            "Number of arguments passed: 2\n",
            "Please provide valid integers as arguments.\n",
            "Sum of the numbers given is: 0\n"
          ]
        }
      ]
    },
    {
      "source": [
        "import sys\n",
        "len = __builtins__.len\n",
        "\n",
        "strLength = len(sys.argv[1])\n",
        "\n",
        "print(\"length of the given string is: \", strLength)"
      ],
      "cell_type": "code",
      "metadata": {
        "colab": {
          "base_uri": "https://localhost:8080/"
        },
        "id": "J6TM4gMlnzoY",
        "outputId": "24835a3b-46b5-4908-d750-21372b475392"
      },
      "execution_count": 33,
      "outputs": [
        {
          "output_type": "stream",
          "name": "stdout",
          "text": [
            "length of the given string is:  2\n"
          ]
        }
      ]
    },
    {
      "cell_type": "code",
      "source": [
        "#ques 11\n",
        "import math\n",
        "import os\n",
        "import datetime\n",
        "\n",
        "x = datetime.datetime.now()\n",
        "print(x)\n",
        "print(math.sqrt(x.day))\n",
        "os.listdir()"
      ],
      "metadata": {
        "colab": {
          "base_uri": "https://localhost:8080/"
        },
        "id": "0pwHiS5AmYcb",
        "outputId": "15e631a5-db82-41ff-e6bd-46e313811cd9"
      },
      "execution_count": 28,
      "outputs": [
        {
          "output_type": "stream",
          "name": "stdout",
          "text": [
            "2025-01-18 13:29:41.476695\n",
            "4.242640687119285\n"
          ]
        },
        {
          "output_type": "execute_result",
          "data": {
            "text/plain": [
              "['.config', 'demofile.txt', 'ex.txt', 'sample_data']"
            ]
          },
          "metadata": {},
          "execution_count": 28
        }
      ]
    }
  ]
}