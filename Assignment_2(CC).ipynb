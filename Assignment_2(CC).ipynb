{
  "nbformat": 4,
  "nbformat_minor": 0,
  "metadata": {
    "colab": {
      "provenance": []
    },
    "kernelspec": {
      "name": "python3",
      "display_name": "Python 3"
    },
    "language_info": {
      "name": "python"
    }
  },
  "cells": [
    {
      "cell_type": "code",
      "execution_count": 2,
      "metadata": {
        "colab": {
          "base_uri": "https://localhost:8080/"
        },
        "id": "RtAW9GYUqQaE",
        "outputId": "131dd8c0-ec72-4622-93db-0094d2bc0cc2"
      },
      "outputs": [
        {
          "output_type": "stream",
          "name": "stdout",
          "text": [
            "Adding  200\n",
            "210,220,230,240,250,260,270,280\n",
            "Adding  300\n",
            "310,320,330,340,350,360,370,380\n",
            "After removing 10, 30: [20, 40, 50, 60, 70, 80]\n",
            "Ascending: [10, 20, 30, 40, 50, 60, 70, 80]\n",
            "Descending: [80, 70, 60, 50, 40, 30, 20, 10]\n"
          ]
        }
      ],
      "source": [
        "def add(l):\n",
        "    for x in [200, 300]:\n",
        "        print(f\"Adding \" , x)\n",
        "        print(\",\".join(str(i + x) for i in l))\n",
        "\n",
        "def sort_list(l):\n",
        "    print(\"Ascending:\", sorted(l))\n",
        "    print(\"Descending:\", sorted(l, reverse=True))\n",
        "\n",
        "def modify(l):\n",
        "    a = [i for i in l if i not in [10, 30]]\n",
        "    print(\"After removing 10, 30:\", a)\n",
        "\n",
        "p = [10, 20, 30, 40, 50, 60, 70, 80]\n",
        "add(p)\n",
        "modify(p)\n",
        "sort_list(p)"
      ]
    },
    {
      "cell_type": "code",
      "source": [
        "l = (45, 89.5, 76, 45.4, 89, 92, 58, 45)\n",
        "\n",
        "def high(s):\n",
        "    print(max(s), s.index(max(s)))\n",
        "\n",
        "def low(s):\n",
        "    print(min(s), s.count(min(s)))\n",
        "\n",
        "def rev(s):\n",
        "    print(list(s[::-1]))\n",
        "\n",
        "def chk(s):\n",
        "    print(76 in s, s.index(76) if 76 in s else \"Not found\")\n",
        "\n",
        "high(l)\n",
        "low(l)\n",
        "rev(l)\n",
        "chk(l)"
      ],
      "metadata": {
        "colab": {
          "base_uri": "https://localhost:8080/"
        },
        "id": "d8sbUPGpqk1P",
        "outputId": "5969e269-8e6f-49f2-8666-3d568601488e"
      },
      "execution_count": 4,
      "outputs": [
        {
          "output_type": "stream",
          "name": "stdout",
          "text": [
            "92 5\n",
            "45 2\n",
            "[45, 58, 92, 89, 45.4, 76, 89.5, 45]\n",
            "True 2\n"
          ]
        }
      ]
    },
    {
      "cell_type": "code",
      "source": [
        "import random, math\n",
        "\n",
        "def isp(n):\n",
        "    if n < 2:\n",
        "        return False\n",
        "    for i in range(2, int(math.sqrt(n)) + 1):\n",
        "        if n % i == 0:\n",
        "            return False\n",
        "    return True\n",
        "\n",
        "def process():\n",
        "    nums = [random.randint(100, 900) for _ in range(100)]\n",
        "    odd, even, primes = [], [], []\n",
        "\n",
        "    for num in nums:\n",
        "        (odd if num % 2 else even).append(num)\n",
        "        if isp(num):\n",
        "            primes.append(num)\n",
        "\n",
        "    print(\"Odd numbers:\", odd)\n",
        "    print(\"Even numbers:\", even)\n",
        "    print(\"Prime numbers:\", primes)\n",
        "\n",
        "process()"
      ],
      "metadata": {
        "colab": {
          "base_uri": "https://localhost:8080/"
        },
        "id": "MSkEJnhPrMt1",
        "outputId": "49456fdc-56d2-4b10-fab5-7c88e79c79ca"
      },
      "execution_count": 5,
      "outputs": [
        {
          "output_type": "stream",
          "name": "stdout",
          "text": [
            "Odd numbers: [879, 895, 891, 341, 639, 633, 143, 215, 183, 497, 349, 467, 357, 177, 375, 861, 709, 183, 459, 515, 655, 477, 803, 809, 507, 861, 185, 323, 867, 839, 547, 873, 233, 433, 383, 679, 799, 795, 573, 783, 517, 755, 735, 193, 771]\n",
            "Even numbers: [574, 712, 152, 144, 626, 420, 502, 488, 384, 838, 524, 684, 594, 556, 132, 368, 540, 854, 106, 152, 596, 802, 478, 800, 102, 636, 316, 384, 630, 108, 196, 130, 580, 650, 528, 282, 658, 266, 310, 308, 480, 822, 858, 532, 102, 258, 518, 548, 180, 268, 630, 274, 116, 184, 644]\n",
            "Prime numbers: [349, 467, 709, 809, 839, 547, 233, 433, 383, 193]\n"
          ]
        }
      ]
    },
    {
      "cell_type": "code",
      "source": [
        "A = {34, 56, 78, 90}\n",
        "B = {78, 45, 90, 23}\n",
        "\n",
        "def union(a, b):\n",
        "    print(a | b)\n",
        "\n",
        "def inte(a, b):\n",
        "    print(a & b)\n",
        "\n",
        "def symdiff(a, b):\n",
        "    print(a ^ b)\n",
        "\n",
        "def issubset(a, b):\n",
        "    print(a <= b)\n",
        "\n",
        "def remove(a):\n",
        "    n = int(input(\"Enter number to remove from A: \"))\n",
        "    if n in a:\n",
        "        a.remove(n)\n",
        "        print(a)\n",
        "    else:\n",
        "        print(\"Number not found\")\n",
        "union(A, B)\n",
        "inte(A, B)\n",
        "symdiff(A, B)\n",
        "issubset(A, B)\n",
        "remove(A)"
      ],
      "metadata": {
        "colab": {
          "base_uri": "https://localhost:8080/"
        },
        "id": "NIYzexbyriCV",
        "outputId": "4ef185b5-aeff-4b49-9781-44ae4a43becd"
      },
      "execution_count": 6,
      "outputs": [
        {
          "output_type": "stream",
          "name": "stdout",
          "text": [
            "{34, 45, 78, 23, 56, 90}\n",
            "{90, 78}\n",
            "{34, 45, 23, 56}\n",
            "False\n",
            "Enter number to remove from A: 34\n",
            "{56, 90, 78}\n"
          ]
        }
      ]
    },
    {
      "cell_type": "code",
      "source": [
        "data = {\"city\": \"Patiala\", \"population\": 419600, \"area\": 468.9}\n",
        "\n",
        "def rename(data, old, new):\n",
        "    if old in data:\n",
        "        data[new] = data.pop(old)\n",
        "    print(data)\n",
        "\n",
        "rename(data, \"city\", \"location\")"
      ],
      "metadata": {
        "colab": {
          "base_uri": "https://localhost:8080/"
        },
        "id": "Ea1IisUorz1K",
        "outputId": "9414878b-5c35-440d-b923-cd6d066ea17e"
      },
      "execution_count": 8,
      "outputs": [
        {
          "output_type": "stream",
          "name": "stdout",
          "text": [
            "{'population': 419600, 'area': 468.9, 'location': 'Patiala'}\n"
          ]
        }
      ]
    }
  ]
}